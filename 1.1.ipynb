{
 "cells": [
  {
   "cell_type": "markdown",
   "metadata": {},
   "source": [
    "# Trabalho Final - Modelos de IA e Machine Learning\n",
    "\n",
    "### Integrantes:\n",
    "\n",
    "###    1) Jurandir Ventura - RM336634\n",
    "###    2) Marcelo Preto - RM336632\n",
    "###    3) Fabio Rizzi - RM336656\n",
    "###    4) Thiago Alexandre – RM336583"
   ]
  },
  {
   "cell_type": "markdown",
   "metadata": {},
   "source": [
    "# Exercício 1.1\n",
    "\n",
    "Utilizando o arquivo **1.1_papafrescasimnao.csv** que é um recorte de teste deste projeto, descubra algumas regras de associação relacionadas ao consumo de batata, procure a relação de regras relacionadas ao questionamento da batata engordar ou não.\n",
    "\n",
    "Dica: Procure utilizar uma confiança acima de 50% e verifique a quantidade de regras geradas antes de inspeciona-las."
   ]
  },
  {
   "cell_type": "code",
   "execution_count": 1,
   "metadata": {},
   "outputs": [],
   "source": [
    "import pandas as pd"
   ]
  },
  {
   "cell_type": "code",
   "execution_count": 2,
   "metadata": {},
   "outputs": [
    {
     "output_type": "execute_result",
     "data": {
      "text/plain": "    TV RADIO PRENSA INTERNET Lapapaessaludable Lapapadaenergia Lapapaengorda  \\\n0  Nao   Nao    Nao      Nao               Nao             Nao           Sim   \n1  Nao   Nao    Nao      Nao               Nao             Nao           Sim   \n2  Nao   Nao    Nao      Nao               Nao             Nao           Sim   \n3  Nao   Nao    Nao      Nao               Nao             Nao           Sim   \n4  Nao   Nao    Nao      Nao               Nao             Nao           Sim   \n\n  Lapapaeseconomica Vapor Sopa  ... Salada OtrasFormas SOPAS GRANOS CARNE  \\\n0               Sim   Nao  Nao  ...    Nao         Nao   Nao    Nao   Sim   \n1               Sim   Nao  Nao  ...    Nao         Nao   Nao    Nao   Nao   \n2               Sim   Nao  Nao  ...    Nao         Sim   Nao    Nao   Nao   \n3               Sim   Nao  Nao  ...    Nao         Nao   Nao    Nao   Nao   \n4               Sim   Nao  Nao  ...    Sim         Nao   Nao    Nao   Sim   \n\n  HUEVOS ARROZ ENSALADA NADAONINGUNO OTROS  \n0    Nao   Sim      Nao          Nao   Nao  \n1    Nao   Sim      Nao          Nao   Sim  \n2    Nao   Nao      Nao          Sim   Nao  \n3    Nao   Sim      Nao          Nao   Sim  \n4    Nao   Sim      Nao          Nao   Nao  \n\n[5 rows x 23 columns]",
      "text/html": "<div>\n<style scoped>\n    .dataframe tbody tr th:only-of-type {\n        vertical-align: middle;\n    }\n\n    .dataframe tbody tr th {\n        vertical-align: top;\n    }\n\n    .dataframe thead th {\n        text-align: right;\n    }\n</style>\n<table border=\"1\" class=\"dataframe\">\n  <thead>\n    <tr style=\"text-align: right;\">\n      <th></th>\n      <th>TV</th>\n      <th>RADIO</th>\n      <th>PRENSA</th>\n      <th>INTERNET</th>\n      <th>Lapapaessaludable</th>\n      <th>Lapapadaenergia</th>\n      <th>Lapapaengorda</th>\n      <th>Lapapaeseconomica</th>\n      <th>Vapor</th>\n      <th>Sopa</th>\n      <th>...</th>\n      <th>Salada</th>\n      <th>OtrasFormas</th>\n      <th>SOPAS</th>\n      <th>GRANOS</th>\n      <th>CARNE</th>\n      <th>HUEVOS</th>\n      <th>ARROZ</th>\n      <th>ENSALADA</th>\n      <th>NADAONINGUNO</th>\n      <th>OTROS</th>\n    </tr>\n  </thead>\n  <tbody>\n    <tr>\n      <th>0</th>\n      <td>Nao</td>\n      <td>Nao</td>\n      <td>Nao</td>\n      <td>Nao</td>\n      <td>Nao</td>\n      <td>Nao</td>\n      <td>Sim</td>\n      <td>Sim</td>\n      <td>Nao</td>\n      <td>Nao</td>\n      <td>...</td>\n      <td>Nao</td>\n      <td>Nao</td>\n      <td>Nao</td>\n      <td>Nao</td>\n      <td>Sim</td>\n      <td>Nao</td>\n      <td>Sim</td>\n      <td>Nao</td>\n      <td>Nao</td>\n      <td>Nao</td>\n    </tr>\n    <tr>\n      <th>1</th>\n      <td>Nao</td>\n      <td>Nao</td>\n      <td>Nao</td>\n      <td>Nao</td>\n      <td>Nao</td>\n      <td>Nao</td>\n      <td>Sim</td>\n      <td>Sim</td>\n      <td>Nao</td>\n      <td>Nao</td>\n      <td>...</td>\n      <td>Nao</td>\n      <td>Nao</td>\n      <td>Nao</td>\n      <td>Nao</td>\n      <td>Nao</td>\n      <td>Nao</td>\n      <td>Sim</td>\n      <td>Nao</td>\n      <td>Nao</td>\n      <td>Sim</td>\n    </tr>\n    <tr>\n      <th>2</th>\n      <td>Nao</td>\n      <td>Nao</td>\n      <td>Nao</td>\n      <td>Nao</td>\n      <td>Nao</td>\n      <td>Nao</td>\n      <td>Sim</td>\n      <td>Sim</td>\n      <td>Nao</td>\n      <td>Nao</td>\n      <td>...</td>\n      <td>Nao</td>\n      <td>Sim</td>\n      <td>Nao</td>\n      <td>Nao</td>\n      <td>Nao</td>\n      <td>Nao</td>\n      <td>Nao</td>\n      <td>Nao</td>\n      <td>Sim</td>\n      <td>Nao</td>\n    </tr>\n    <tr>\n      <th>3</th>\n      <td>Nao</td>\n      <td>Nao</td>\n      <td>Nao</td>\n      <td>Nao</td>\n      <td>Nao</td>\n      <td>Nao</td>\n      <td>Sim</td>\n      <td>Sim</td>\n      <td>Nao</td>\n      <td>Nao</td>\n      <td>...</td>\n      <td>Nao</td>\n      <td>Nao</td>\n      <td>Nao</td>\n      <td>Nao</td>\n      <td>Nao</td>\n      <td>Nao</td>\n      <td>Sim</td>\n      <td>Nao</td>\n      <td>Nao</td>\n      <td>Sim</td>\n    </tr>\n    <tr>\n      <th>4</th>\n      <td>Nao</td>\n      <td>Nao</td>\n      <td>Nao</td>\n      <td>Nao</td>\n      <td>Nao</td>\n      <td>Nao</td>\n      <td>Sim</td>\n      <td>Sim</td>\n      <td>Nao</td>\n      <td>Nao</td>\n      <td>...</td>\n      <td>Sim</td>\n      <td>Nao</td>\n      <td>Nao</td>\n      <td>Nao</td>\n      <td>Sim</td>\n      <td>Nao</td>\n      <td>Sim</td>\n      <td>Nao</td>\n      <td>Nao</td>\n      <td>Nao</td>\n    </tr>\n  </tbody>\n</table>\n<p>5 rows × 23 columns</p>\n</div>"
     },
     "metadata": {},
     "execution_count": 2
    }
   ],
   "source": [
    "#Leitura do dataset\n",
    "dataset = pd.read_csv('data/1.1_papafrescasimnao.csv', sep=';', engine='python')\n",
    "dataset.head()"
   ]
  },
  {
   "cell_type": "code",
   "execution_count": null,
   "metadata": {},
   "outputs": [],
   "source": []
  }
 ],
 "metadata": {
  "kernelspec": {
   "display_name": "Python 3",
   "language": "python",
   "name": "python3"
  },
  "language_info": {
   "codemirror_mode": {
    "name": "ipython",
    "version": 3
   },
   "file_extension": ".py",
   "mimetype": "text/x-python",
   "name": "python",
   "nbconvert_exporter": "python",
   "pygments_lexer": "ipython3",
   "version": "3.7.6-final"
  }
 },
 "nbformat": 4,
 "nbformat_minor": 4
}