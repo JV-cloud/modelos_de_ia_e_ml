{
 "cells": [
  {
   "cell_type": "markdown",
   "metadata": {},
   "source": [
    "# Trabalho Final - Modelos de IA e Machine Learning\n",
    "\n",
    "### Integrantes:\n",
    "\n",
    "###    1) Jurandir Ventura - RM336634\n",
    "###    2) Marcelo Preto - RM336632\n",
    "###    3) Fabio Rizzi - RM336656\n",
    "###    4) Thiago Alexandre – RM336583"
   ]
  },
  {
   "cell_type": "markdown",
   "metadata": {},
   "source": [
    "# Exercício 1.2\n",
    "\n",
    "Utilizando o arquivo **1.2_acidentes-apriori.csv** que é um recorte da base de dados abertas dos acidentes de todas as rodovias federais, disponível de forma completa em: https://portal.prf.gov.br/dados-abertos-acidentes pela Polícia Rodoviária Federal. Procure analisar quais são as regras mais relevantes para análise de acidentes, tentem–se colocar no lugar no lugar de cientista de dados da polícia rodoviária, quais são as regras relevantes? Existem itemsets pouco relevantes que poderiam ser descartados na análise? Realize alguns filtros nos itemsets para facilitar a análise das regras geradas."
   ]
  },
  {
   "cell_type": "code",
   "execution_count": 1,
   "metadata": {},
   "outputs": [],
   "source": [
    "import pandas as pd"
   ]
  },
  {
   "cell_type": "code",
   "execution_count": 2,
   "metadata": {},
   "outputs": [
    {
     "output_type": "execute_result",
     "data": {
      "text/plain": "    dia_semana  uf                       causa_acidente  \\\n0  terca-feira  SP            Falta de Atencao Conducao   \n1  terca-feira  PR            Falta de Atencao Conducao   \n2  terca-feira  SC                     Animais na Pista   \n3  terca-feira  CE  Ingestao de Substancias Psicoativas   \n4  terca-feira  MG            Falta de Atencao Conducao   \n\n                 tipo_acidente classificacao_acidente     fase_dia  \\\n0  Colisao com objeto estatico    Com Vitimas Feridas  Plena Noite   \n1             Colisao traseira    Com Vitimas Feridas  Plena Noite   \n2  Colisao com objeto estatico    Com Vitimas Feridas  Plena Noite   \n3  Colisao com objeto estatico    Com Vitimas Feridas  Plena Noite   \n4          Colisao transversal    Com Vitimas Feridas  Plena Noite   \n\n  condicao_metereologica         tracado_via  \n0              Ceu Claro               Curva  \n1                Nublado                Reta  \n2              Ceu Claro                Reta  \n3                Nublado             Viaduto  \n4                Nublado  Intersecao de vias  ",
      "text/html": "<div>\n<style scoped>\n    .dataframe tbody tr th:only-of-type {\n        vertical-align: middle;\n    }\n\n    .dataframe tbody tr th {\n        vertical-align: top;\n    }\n\n    .dataframe thead th {\n        text-align: right;\n    }\n</style>\n<table border=\"1\" class=\"dataframe\">\n  <thead>\n    <tr style=\"text-align: right;\">\n      <th></th>\n      <th>dia_semana</th>\n      <th>uf</th>\n      <th>causa_acidente</th>\n      <th>tipo_acidente</th>\n      <th>classificacao_acidente</th>\n      <th>fase_dia</th>\n      <th>condicao_metereologica</th>\n      <th>tracado_via</th>\n    </tr>\n  </thead>\n  <tbody>\n    <tr>\n      <th>0</th>\n      <td>terca-feira</td>\n      <td>SP</td>\n      <td>Falta de Atencao Conducao</td>\n      <td>Colisao com objeto estatico</td>\n      <td>Com Vitimas Feridas</td>\n      <td>Plena Noite</td>\n      <td>Ceu Claro</td>\n      <td>Curva</td>\n    </tr>\n    <tr>\n      <th>1</th>\n      <td>terca-feira</td>\n      <td>PR</td>\n      <td>Falta de Atencao Conducao</td>\n      <td>Colisao traseira</td>\n      <td>Com Vitimas Feridas</td>\n      <td>Plena Noite</td>\n      <td>Nublado</td>\n      <td>Reta</td>\n    </tr>\n    <tr>\n      <th>2</th>\n      <td>terca-feira</td>\n      <td>SC</td>\n      <td>Animais na Pista</td>\n      <td>Colisao com objeto estatico</td>\n      <td>Com Vitimas Feridas</td>\n      <td>Plena Noite</td>\n      <td>Ceu Claro</td>\n      <td>Reta</td>\n    </tr>\n    <tr>\n      <th>3</th>\n      <td>terca-feira</td>\n      <td>CE</td>\n      <td>Ingestao de Substancias Psicoativas</td>\n      <td>Colisao com objeto estatico</td>\n      <td>Com Vitimas Feridas</td>\n      <td>Plena Noite</td>\n      <td>Nublado</td>\n      <td>Viaduto</td>\n    </tr>\n    <tr>\n      <th>4</th>\n      <td>terca-feira</td>\n      <td>MG</td>\n      <td>Falta de Atencao Conducao</td>\n      <td>Colisao transversal</td>\n      <td>Com Vitimas Feridas</td>\n      <td>Plena Noite</td>\n      <td>Nublado</td>\n      <td>Intersecao de vias</td>\n    </tr>\n  </tbody>\n</table>\n</div>"
     },
     "metadata": {},
     "execution_count": 2
    }
   ],
   "source": [
    "#Leitura do dataset\n",
    "dataset = pd.read_csv('data/1.2_acidentes-apriori.csv', sep=';', engine='python')\n",
    "dataset.head()"
   ]
  },
  {
   "cell_type": "code",
   "execution_count": null,
   "metadata": {},
   "outputs": [],
   "source": []
  }
 ],
 "metadata": {
  "kernelspec": {
   "display_name": "Python 3",
   "language": "python",
   "name": "python3"
  },
  "language_info": {
   "codemirror_mode": {
    "name": "ipython",
    "version": 3
   },
   "file_extension": ".py",
   "mimetype": "text/x-python",
   "name": "python",
   "nbconvert_exporter": "python",
   "pygments_lexer": "ipython3",
   "version": "3.7.6-final"
  }
 },
 "nbformat": 4,
 "nbformat_minor": 4
}