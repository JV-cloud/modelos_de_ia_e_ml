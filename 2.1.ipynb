{
 "cells": [
  {
   "cell_type": "markdown",
   "metadata": {},
   "source": [
    "# Trabalho Final - Modelos de IA e Machine Learning\n",
    "\n",
    "### Integrantes:\n",
    "\n",
    "###    1) Jurandir Ventura - RM336634\n",
    "###    2) Marcelo Preto - RM336632\n",
    "###    3) Fabio Rizzi - RM336656\n",
    "###    4) Thiago Alexandre – RM336583"
   ]
  },
  {
   "cell_type": "markdown",
   "metadata": {},
   "source": [
    "# Exercício 2.1\n",
    "\n",
    "Utilizando o arquivo UsuariosTempoMedioQuantidade.csv, que é uma amostra do tempo de utilização dos usuários em um determinado sistema, faça a clusterização utilizando k means e DBSCAN.\n",
    "a) O que representam os clusters gerados?\n",
    "\n",
    "b) Qual é a melhor quantidade de Clusters?\n",
    "\n",
    "c) Qual é a melhor técnica (k means ou DBSCAN) a ser utilizada nessa clusterização"
   ]
  },
  {
   "cell_type": "code",
   "execution_count": 4,
   "metadata": {},
   "outputs": [],
   "source": [
    "import pandas as pd"
   ]
  },
  {
   "cell_type": "code",
   "execution_count": 5,
   "metadata": {},
   "outputs": [
    {
     "output_type": "execute_result",
     "data": {
      "text/plain": "    NomeUsuario         Login                           Email  \\\n0     dadostab1     dadostab1  dadostab1@dadospesquisa.com.br   \n1      axistab2      axistab2    axistab2@axiscriativa.com.br   \n2      axistab1      axistab1    axistab1@axiscriativa.com.br   \n3  planocdetab1  planocdetab1    planocdetab1@planocde.com.br   \n4     Usuario11     usuario11       usuario11@marketnnova.com   \n\n              NomeEquipe  Quantidade  TempoMedio  \n0  Equipe Dados Pesquisa        1498           0  \n1   Equipe Axis Criativa         461          75  \n2   Equipe Axis Criativa         445           7  \n3        Equipe PlanoCDE         423         140  \n4     Equipe Marketnnova         351          22  ",
      "text/html": "<div>\n<style scoped>\n    .dataframe tbody tr th:only-of-type {\n        vertical-align: middle;\n    }\n\n    .dataframe tbody tr th {\n        vertical-align: top;\n    }\n\n    .dataframe thead th {\n        text-align: right;\n    }\n</style>\n<table border=\"1\" class=\"dataframe\">\n  <thead>\n    <tr style=\"text-align: right;\">\n      <th></th>\n      <th>NomeUsuario</th>\n      <th>Login</th>\n      <th>Email</th>\n      <th>NomeEquipe</th>\n      <th>Quantidade</th>\n      <th>TempoMedio</th>\n    </tr>\n  </thead>\n  <tbody>\n    <tr>\n      <th>0</th>\n      <td>dadostab1</td>\n      <td>dadostab1</td>\n      <td>dadostab1@dadospesquisa.com.br</td>\n      <td>Equipe Dados Pesquisa</td>\n      <td>1498</td>\n      <td>0</td>\n    </tr>\n    <tr>\n      <th>1</th>\n      <td>axistab2</td>\n      <td>axistab2</td>\n      <td>axistab2@axiscriativa.com.br</td>\n      <td>Equipe Axis Criativa</td>\n      <td>461</td>\n      <td>75</td>\n    </tr>\n    <tr>\n      <th>2</th>\n      <td>axistab1</td>\n      <td>axistab1</td>\n      <td>axistab1@axiscriativa.com.br</td>\n      <td>Equipe Axis Criativa</td>\n      <td>445</td>\n      <td>7</td>\n    </tr>\n    <tr>\n      <th>3</th>\n      <td>planocdetab1</td>\n      <td>planocdetab1</td>\n      <td>planocdetab1@planocde.com.br</td>\n      <td>Equipe PlanoCDE</td>\n      <td>423</td>\n      <td>140</td>\n    </tr>\n    <tr>\n      <th>4</th>\n      <td>Usuario11</td>\n      <td>usuario11</td>\n      <td>usuario11@marketnnova.com</td>\n      <td>Equipe Marketnnova</td>\n      <td>351</td>\n      <td>22</td>\n    </tr>\n  </tbody>\n</table>\n</div>"
     },
     "metadata": {},
     "execution_count": 5
    }
   ],
   "source": [
    "#Leitura do dataset\n",
    "dataset = pd.read_csv('data/2.1_usuarios-tempomedioquantidade.csv', sep=';', engine='python')\n",
    "dataset.head()"
   ]
  },
  {
   "cell_type": "code",
   "execution_count": null,
   "metadata": {},
   "outputs": [],
   "source": []
  }
 ],
 "metadata": {
  "kernelspec": {
   "display_name": "Python 3",
   "language": "python",
   "name": "python3"
  },
  "language_info": {
   "codemirror_mode": {
    "name": "ipython",
    "version": 3
   },
   "file_extension": ".py",
   "mimetype": "text/x-python",
   "name": "python",
   "nbconvert_exporter": "python",
   "pygments_lexer": "ipython3",
   "version": "3.7.6-final"
  }
 },
 "nbformat": 4,
 "nbformat_minor": 4
}