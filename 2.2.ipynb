{
 "cells": [
  {
   "cell_type": "markdown",
   "metadata": {},
   "source": [
    "# Trabalho Final - Modelos de IA e Machine Learning\n",
    "\n",
    "### Integrantes:\n",
    "\n",
    "###    1) Jurandir Ventura - RM336634\n",
    "###    2) Marcelo Preto - RM336632\n",
    "###    3) Fabio Rizzi - RM336656\n",
    "###    4) Thiago Alexandre – RM336583"
   ]
  },
  {
   "cell_type": "markdown",
   "metadata": {},
   "source": [
    "# Exercício 2.2\n",
    "\n",
    "Utilizando dataset do arquivo circulos.csv faça a clusterização utilizando k-means e DBSCAN.\n",
    "Faça a plotagem da clusterização gerada (com cores diferentes para cada cluster).\n",
    "\n",
    "a) Qual é a melhor quantidade de Clusters?\n",
    "\n",
    "b) Qual é a melhor técnica (k-means ou DBSCAN) a ser utilizada nessa\n",
    "clusterização?"
   ]
  },
  {
   "cell_type": "code",
   "execution_count": 4,
   "metadata": {},
   "outputs": [],
   "source": [
    "import pandas as pd"
   ]
  },
  {
   "cell_type": "code",
   "execution_count": 5,
   "metadata": {},
   "outputs": [
    {
     "output_type": "execute_result",
     "data": {
      "text/plain": "   Unnamed: 0         X         Y\n0           0 -0.262199  0.456958\n1           1 -0.955271 -0.377646\n2           2  0.119759  1.004204\n3           3 -0.817525 -0.636813\n4           4  0.341931  0.408966",
      "text/html": "<div>\n<style scoped>\n    .dataframe tbody tr th:only-of-type {\n        vertical-align: middle;\n    }\n\n    .dataframe tbody tr th {\n        vertical-align: top;\n    }\n\n    .dataframe thead th {\n        text-align: right;\n    }\n</style>\n<table border=\"1\" class=\"dataframe\">\n  <thead>\n    <tr style=\"text-align: right;\">\n      <th></th>\n      <th>Unnamed: 0</th>\n      <th>X</th>\n      <th>Y</th>\n    </tr>\n  </thead>\n  <tbody>\n    <tr>\n      <th>0</th>\n      <td>0</td>\n      <td>-0.262199</td>\n      <td>0.456958</td>\n    </tr>\n    <tr>\n      <th>1</th>\n      <td>1</td>\n      <td>-0.955271</td>\n      <td>-0.377646</td>\n    </tr>\n    <tr>\n      <th>2</th>\n      <td>2</td>\n      <td>0.119759</td>\n      <td>1.004204</td>\n    </tr>\n    <tr>\n      <th>3</th>\n      <td>3</td>\n      <td>-0.817525</td>\n      <td>-0.636813</td>\n    </tr>\n    <tr>\n      <th>4</th>\n      <td>4</td>\n      <td>0.341931</td>\n      <td>0.408966</td>\n    </tr>\n  </tbody>\n</table>\n</div>"
     },
     "metadata": {},
     "execution_count": 5
    }
   ],
   "source": [
    "#Leitura do dataset\n",
    "dataset = pd.read_csv('data/2.2_circulos.csv', sep=',', engine='python')\n",
    "dataset.head()"
   ]
  },
  {
   "cell_type": "code",
   "execution_count": null,
   "metadata": {},
   "outputs": [],
   "source": []
  }
 ],
 "metadata": {
  "kernelspec": {
   "display_name": "Python 3",
   "language": "python",
   "name": "python3"
  },
  "language_info": {
   "codemirror_mode": {
    "name": "ipython",
    "version": 3
   },
   "file_extension": ".py",
   "mimetype": "text/x-python",
   "name": "python",
   "nbconvert_exporter": "python",
   "pygments_lexer": "ipython3",
   "version": "3.7.6-final"
  }
 },
 "nbformat": 4,
 "nbformat_minor": 4
}