{
 "cells": [
  {
   "cell_type": "markdown",
   "metadata": {},
   "source": [
    "# Trabalho Final - Modelos de IA e Machine Learning\n",
    "\n",
    "### Integrantes:\n",
    "\n",
    "###    1) Jurandir Ventura - RM336634\n",
    "###    2) Marcelo Preto - RM336632\n",
    "###    3) Fabio Rizzi - RM336656\n",
    "###    4) Thiago Alexandre – RM336583"
   ]
  },
  {
   "attachments": {
    "31eacf82-c5bc-4dee-bb8b-d8e6545701be.png": {
     "image/png": "[encoded data removed]"
    }
   },
   "cell_type": "markdown",
   "metadata": {},
   "source": [
    "# Exercício 8\n",
    "\n",
    "## Clusterização , Classificação e Regressão\n",
    "\n",
    "Você foi escolhido o melhor cientista de dados de sua empresa e agora terá que fazer um trabalho para o governo em um dataset secreto, onde não se sabe o que representam cada coluna.\n",
    "\n",
    "O governo não sabe como classificar os registros desse conjunto, logo foi sugerido uma clusterização que dará origem as classes do problema para que quando novos registros forem adicionar a bases, estes sejam automaticamente classificados por um classificador previamente treinado.\n",
    "\n",
    "Logo se a clusterização for ruim, isso poderá comprometer toda a classificação.\n",
    "\n",
    "Adicionalmente o Governo também deseja um Regressor que a partir dele construirá um simulador web informando as características e o regressor treinado calculará uma saída contínua baseado na característica V2.\n",
    "\n",
    "![Ex. 8](img/ex-8.png)\n",
    "\n",
    "O que deve ser entregue: Um documento (.doc, .pdf ou notebook) explicando TODOS os passos da solução.\n",
    "\n",
    "É permitido usar todas as técnicas vistas em sala de aula. Lembrando que são 3 principais componentes do trabalho:\n",
    "\n",
    "- Clusterização \n",
    "\n",
    "- Classificação\n",
    "\n",
    "- Regressão\n",
    "\n",
    "O pré-processmanto dos dados é fundamental.\n",
    "\n",
    "- Faça a plotagem da clusterização.\n",
    "\n",
    "- Faça a plotagem da Matriz de confusão e analise os resultados.\n",
    "\n",
    "- Faça a plotagem dos resultados encontrados com os regressores utilizados\n",
    "\n",
    "O Conjunto de dados está disponível no repositório da disciplina com o nome **8_trabalhoex8.csv**\n"
   ]
  },
  {
   "cell_type": "code",
   "execution_count": 2,
   "metadata": {},
   "outputs": [],
   "source": [
    "import pandas as pd"
   ]
  },
  {
   "cell_type": "code",
   "execution_count": 3,
   "metadata": {},
   "outputs": [
    {
     "output_type": "execute_result",
     "data": {
      "text/plain": "       V1        V2      V3    V4      V5 V6      V7      V8      V9    V10\n0 -122.23  452600.0   129.0  41.0   880.0  D   126.0   322.0  83.252  37.88\n1 -122.22  358500.0  1106.0  21.0  7099.0  D  1138.0  2401.0  83.014  37.86\n2 -122.24  352100.0   190.0  52.0  1467.0  D   177.0   496.0  72.574  37.85\n3 -122.25  341300.0   235.0  52.0  1274.0  D   219.0   558.0  56.431  37.85\n4 -122.25  342200.0   280.0  52.0  1627.0  D   259.0   565.0  38.462  37.85",
      "text/html": "<div>\n<style scoped>\n    .dataframe tbody tr th:only-of-type {\n        vertical-align: middle;\n    }\n\n    .dataframe tbody tr th {\n        vertical-align: top;\n    }\n\n    .dataframe thead th {\n        text-align: right;\n    }\n</style>\n<table border=\"1\" class=\"dataframe\">\n  <thead>\n    <tr style=\"text-align: right;\">\n      <th></th>\n      <th>V1</th>\n      <th>V2</th>\n      <th>V3</th>\n      <th>V4</th>\n      <th>V5</th>\n      <th>V6</th>\n      <th>V7</th>\n      <th>V8</th>\n      <th>V9</th>\n      <th>V10</th>\n    </tr>\n  </thead>\n  <tbody>\n    <tr>\n      <th>0</th>\n      <td>-122.23</td>\n      <td>452600.0</td>\n      <td>129.0</td>\n      <td>41.0</td>\n      <td>880.0</td>\n      <td>D</td>\n      <td>126.0</td>\n      <td>322.0</td>\n      <td>83.252</td>\n      <td>37.88</td>\n    </tr>\n    <tr>\n      <th>1</th>\n      <td>-122.22</td>\n      <td>358500.0</td>\n      <td>1106.0</td>\n      <td>21.0</td>\n      <td>7099.0</td>\n      <td>D</td>\n      <td>1138.0</td>\n      <td>2401.0</td>\n      <td>83.014</td>\n      <td>37.86</td>\n    </tr>\n    <tr>\n      <th>2</th>\n      <td>-122.24</td>\n      <td>352100.0</td>\n      <td>190.0</td>\n      <td>52.0</td>\n      <td>1467.0</td>\n      <td>D</td>\n      <td>177.0</td>\n      <td>496.0</td>\n      <td>72.574</td>\n      <td>37.85</td>\n    </tr>\n    <tr>\n      <th>3</th>\n      <td>-122.25</td>\n      <td>341300.0</td>\n      <td>235.0</td>\n      <td>52.0</td>\n      <td>1274.0</td>\n      <td>D</td>\n      <td>219.0</td>\n      <td>558.0</td>\n      <td>56.431</td>\n      <td>37.85</td>\n    </tr>\n    <tr>\n      <th>4</th>\n      <td>-122.25</td>\n      <td>342200.0</td>\n      <td>280.0</td>\n      <td>52.0</td>\n      <td>1627.0</td>\n      <td>D</td>\n      <td>259.0</td>\n      <td>565.0</td>\n      <td>38.462</td>\n      <td>37.85</td>\n    </tr>\n  </tbody>\n</table>\n</div>"
     },
     "metadata": {},
     "execution_count": 3
    }
   ],
   "source": [
    "#Leitura do dataset\n",
    "dataset = pd.read_csv('data/8_trabalhoex8.csv', sep=';', engine='python')\n",
    "dataset.head()"
   ]
  },
  {
   "cell_type": "code",
   "execution_count": null,
   "metadata": {},
   "outputs": [],
   "source": []
  }
 ],
 "metadata": {
  "kernelspec": {
   "display_name": "Python 3",
   "language": "python",
   "name": "python3"
  },
  "language_info": {
   "codemirror_mode": {
    "name": "ipython",
    "version": 3
   },
   "file_extension": ".py",
   "mimetype": "text/x-python",
   "name": "python",
   "nbconvert_exporter": "python",
   "pygments_lexer": "ipython3",
   "version": "3.7.6-final"
  }
 },
 "nbformat": 4,
 "nbformat_minor": 4
}